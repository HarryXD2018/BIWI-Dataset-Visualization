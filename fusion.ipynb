{
 "cells": [
  {
   "cell_type": "code",
   "execution_count": 139,
   "metadata": {
    "collapsed": true,
    "pycharm": {
     "name": "#%%\n"
    }
   },
   "outputs": [],
   "source": [
    "import cv2\n",
    "import numpy as np\n",
    "import struct\n",
    "import open3d as o3d"
   ]
  },
  {
   "cell_type": "code",
   "execution_count": 140,
   "outputs": [],
   "source": [
    "rgb_file = 'source/frame_00054_rgb.png'\n",
    "depth_file = 'source/frame_00054_depth.bin'\n",
    "pose_file = 'source/frame_00054_pose.txt'"
   ],
   "metadata": {
    "collapsed": false,
    "pycharm": {
     "name": "#%%\n"
    }
   }
  },
  {
   "cell_type": "code",
   "execution_count": 141,
   "outputs": [],
   "source": [
    "def get_depth_image(file):\n",
    "    p = 0\n",
    "    depth_image = []\n",
    "    points_set = np.zeros((1, 3))\n",
    "    depth_intrinsic = np.genfromtxt('source/depth.cal', skip_footer=6)\n",
    "    with open(file, 'rb') as f:\n",
    "        width = struct.unpack('i', f.read(4))[0]\n",
    "        height = struct.unpack('i', f.read(4))[0]\n",
    "        while p < width*height:\n",
    "            empty_num = struct.unpack('i', f.read(4))[0]\n",
    "            for i in range(empty_num):\n",
    "                depth_image.append(0)\n",
    "            full_num = struct.unpack('i', f.read(4))[0]\n",
    "            for i in range(full_num):\n",
    "                depth = struct.unpack('h', f.read(2))[0]\n",
    "                depth_image.append(depth)\n",
    "            p += empty_num + full_num\n",
    "        depth_image = np.reshape(depth_image, (height, width))\n",
    "        depth_image = depth_image / depth_image.max() * 255\n",
    "        depth_image = depth_image.astype('uint8')\n",
    "        # cv2.imshow('depth', depth_image)\n",
    "        for y in range(0, 480):\n",
    "            for x in range(0, 640):\n",
    "                d = depth_image[y][x]\n",
    "                if d > 0:\n",
    "                    point_x = d * (float(x) - depth_intrinsic[0][2]) / depth_intrinsic[0][0]\n",
    "                    point_y = d * (float(y) - depth_intrinsic[1][2]) / depth_intrinsic[1][1]\n",
    "                    point_z = d\n",
    "                    points_set = np.concatenate((points_set, np.asarray([point_x, point_y, point_z]).reshape((1, 3))))\n",
    "        return depth_image, np.delete(points_set, 0, axis=0)"
   ],
   "metadata": {
    "collapsed": false,
    "pycharm": {
     "name": "#%%\n"
    }
   }
  },
  {
   "cell_type": "code",
   "execution_count": 142,
   "outputs": [],
   "source": [
    "def get_color(points_set):\n",
    "    rgb_intrinsic = np.genfromtxt('source/rgb.cal', skip_footer=6)\n",
    "    R_1 = np.genfromtxt('source/rgb.cal', skip_footer=2, skip_header=5)\n",
    "    R = np.zeros((4, 4))\n",
    "    R[0:3, 0:3] = R_1\n",
    "    R[3][3] = 1\n",
    "    c = np.genfromtxt('source/rgb.cal', skip_header=9, skip_footer=1)\n",
    "    T = np.eye(4)\n",
    "    T[0:3, 3] = -c\n",
    "    PI = rgb_intrinsic.dot(np.array([[1, 0, 0, 0], [0, 1, 0, 0], [0, 0, 1, 0]])).dot(R).dot(T)\n",
    "    points_set = np.hstack((points_set, np.ones((points_set.shape[0], 1)))).T\n",
    "    print(points_set.shape)\n",
    "    return PI.dot(points_set)"
   ],
   "metadata": {
    "collapsed": false,
    "pycharm": {
     "name": "#%%\n"
    }
   }
  },
  {
   "cell_type": "code",
   "execution_count": 143,
   "outputs": [],
   "source": [
    "img = cv2.imread(rgb_file)\n",
    "depth_img, point_set = get_depth_image(depth_file)"
   ],
   "metadata": {
    "collapsed": false,
    "pycharm": {
     "name": "#%%\n"
    }
   }
  },
  {
   "cell_type": "code",
   "execution_count": 151,
   "outputs": [
    {
     "name": "stdout",
     "output_type": "stream",
     "text": [
      "214.00000244379044\n",
      "[[  3.9595982  -50.68285702 228.        ]\n",
      " [  5.93939731 -50.68285702 228.        ]\n",
      " [  6.33535713 -50.68285702 228.        ]\n",
      " [  6.70179363 -50.46056379 227.        ]]\n",
      "[  2.97317202 -13.00762759 204.00000244]\n",
      "(4, 71080)\n",
      "(3, 71080)\n",
      "[[92889.8941933  93908.8940256  94112.69399206 93975.96135218]\n",
      " [30681.42044958 30672.45234006 30670.65871815 30535.0041479 ]\n",
      " [  241.78836962   241.77010004   241.76644612   240.75986735]]\n",
      "[203 197 195]\n",
      "[138 153 173]\n",
      "[181 180 175]\n",
      "[108  82  77]\n",
      "[127  85  63]\n",
      "[119  74  52]\n",
      "[73 59 57]\n",
      "[85 45 34]\n",
      "(71080, 3)\n",
      "(71080, 3)\n"
     ]
    }
   ],
   "source": [
    "def get_pose():\n",
    "    global depth_img\n",
    "    global point_set\n",
    "    f_axis = np.genfromtxt(pose_file, skip_footer=1)\n",
    "    f_center = np.genfromtxt(pose_file, skip_header=3)\n",
    "    depth_intrinsic = np.genfromtxt('source/depth.cal', skip_footer=6)\n",
    "    point_x = int(depth_intrinsic[0][2] + depth_intrinsic[0][0] * f_center[0] / f_center[2])\n",
    "    point_y = int(depth_intrinsic[1][2] + depth_intrinsic[1][1] * f_center[1] / f_center[2])\n",
    "    d = depth_img[point_y-5:point_y+5, point_x-5:point_x+5].min() / depth_img.max() * 255\n",
    "    point_x = d * (float(point_x) - depth_intrinsic[0][2]) / depth_intrinsic[0][0]\n",
    "    point_y = d * (float(point_y) - depth_intrinsic[1][2]) / depth_intrinsic[1][1]\n",
    "    translation = 10\n",
    "    d -= translation\n",
    "    return f_axis, np.array([point_x, point_y, d])\n",
    "\n",
    "axis, center = get_pose()\n",
    "print(point_set[0:4, :])\n",
    "print(center)\n",
    "\n",
    "\n",
    "def graw_axis(center, pose):\n",
    "    mat = np.zeros((20, 3))\n",
    "    element = np.arange(0, 20)\n",
    "    mat[:, 0] = element\n",
    "    mat[:, 1] = element\n",
    "    mat[:, 2] = element\n",
    "    pose[:, 2] = - pose[:, 2]\n",
    "    mat = np.concatenate((mat*pose[0], mat*pose[1], mat*pose[2]))\n",
    "    color = np.zeros(mat.shape)\n",
    "    color[0:20, 0] = 255            # Red\n",
    "    color[20:40, 1] = 255           # Green\n",
    "    color[40:60, 2] = 255           # Blue\n",
    "    return center+mat, color\n",
    "\n",
    "rgb_point_set = get_color(point_set)\n",
    "print(rgb_point_set.shape)\n",
    "print(rgb_point_set[:, 0:4])\n",
    "rgb_point_set[0, :] /= rgb_point_set[2, :]\n",
    "rgb_point_set[1, :] /= rgb_point_set[2, :]\n",
    "color_set = []\n",
    "for i in range(rgb_point_set.shape[1]):\n",
    "    loc = rgb_point_set[:, i]\n",
    "    x = int(loc[0])\n",
    "    y = int(loc[1])\n",
    "    color_set.append(img[y-460][x-64])\n",
    "    if i % 10000 == 0:\n",
    "        print(img[y-480][x-64])\n",
    "color_set = np.array(color_set) / 255\n",
    "\n",
    "print(color_set.shape)\n",
    "print(point_set.shape)\n",
    "axis_center, axis_color = graw_axis(center, axis)\n",
    "\n",
    "point_set_1 = np.ones(point_set.shape)\n",
    "point_set_1[:, 0] = -point_set[:, 1]\n",
    "point_set_1[:, 1] = point_set[:, 0]\n",
    "point_set_1[:, 2] = point_set[:, 2]\n",
    "\n",
    "color_set_1 = np.ones(point_set.shape)\n",
    "color_set_1[:, 0] = color_set[:, 2]\n",
    "color_set_1[:, 1] = color_set[:, 1]\n",
    "color_set_1[:, 2] = color_set[:, 0]\n",
    "\n",
    "point_cloud = o3d.PointCloud()\n",
    "point_cloud.points = o3d.Vector3dVector(point_set)\n",
    "point_cloud.colors = o3d.Vector3dVector(color_set_1)\n",
    "\n",
    "pose_axis = o3d.PointCloud()\n",
    "pose_axis.points = o3d.Vector3dVector(axis_center)\n",
    "pose_axis.colors = o3d.Vector3dVector(axis_color)\n",
    "\n",
    "o3d.draw_geometries([point_cloud, pose_axis])"
   ],
   "metadata": {
    "collapsed": false,
    "pycharm": {
     "name": "#%%\n"
    }
   }
  }
 ],
 "metadata": {
  "kernelspec": {
   "display_name": "Python 3",
   "language": "python",
   "name": "python3"
  },
  "language_info": {
   "codemirror_mode": {
    "name": "ipython",
    "version": 2
   },
   "file_extension": ".py",
   "mimetype": "text/x-python",
   "name": "python",
   "nbconvert_exporter": "python",
   "pygments_lexer": "ipython2",
   "version": "2.7.6"
  }
 },
 "nbformat": 4,
 "nbformat_minor": 0
}